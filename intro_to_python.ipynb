{
  "nbformat": 4,
  "nbformat_minor": 0,
  "metadata": {
    "colab": {
      "provenance": [],
      "toc_visible": true,
      "authorship_tag": "ABX9TyM+My2xN8DJON1IRehG8M44",
      "include_colab_link": true
    },
    "kernelspec": {
      "name": "python3",
      "display_name": "Python 3"
    },
    "language_info": {
      "name": "python"
    }
  },
  "cells": [
    {
      "cell_type": "markdown",
      "metadata": {
        "id": "view-in-github",
        "colab_type": "text"
      },
      "source": [
        "<a href=\"https://colab.research.google.com/github/TinkerYpsi/PythonWorkshop/blob/master/intro_to_python.ipynb\" target=\"_parent\"><img src=\"https://colab.research.google.com/assets/colab-badge.svg\" alt=\"Open In Colab\"/></a>"
      ]
    },
    {
      "cell_type": "markdown",
      "source": [
        "##Variable Types"
      ],
      "metadata": {
        "id": "NgpzGoQjRmfA"
      }
    },
    {
      "cell_type": "markdown",
      "source": [
        "###Basic Types"
      ],
      "metadata": {
        "id": "QcVzcCxQTXza"
      }
    },
    {
      "cell_type": "code",
      "source": [
        "# There are three basic variable types\n",
        "# string\n",
        "stringVar = '8'\n",
        "# int\n",
        "numVar1 = 5\n",
        "# float\n",
        "numVar2 = 3.4\n",
        "\n",
        "# You can add integers and floats...\n",
        "print(numVar1 + numVar2)\n",
        "# ...but you can't add numbers and strings\n",
        "try:\n",
        "  print(numVar1 + stringVar)\n",
        "except Exception as e:\n",
        "  print(e)"
      ],
      "metadata": {
        "id": "qgZ8RylTl8NE"
      },
      "execution_count": null,
      "outputs": []
    },
    {
      "cell_type": "markdown",
      "source": [
        "####Strings"
      ],
      "metadata": {
        "id": "Y0PXF5CtOFfm"
      }
    },
    {
      "cell_type": "markdown",
      "source": [
        "#####Printing"
      ],
      "metadata": {
        "id": "aLy6cZ8lKQ2E"
      }
    },
    {
      "cell_type": "code",
      "execution_count": null,
      "metadata": {
        "id": "_o4nZe9YIgtq"
      },
      "outputs": [],
      "source": [
        "# Hello world!\n",
        "print('Hello World!')  # Input for the print() function may be a string or a number\n",
        "print(\"Hey there!\")  # You can use single or double quotes to indicate a string\n",
        "print(32)\n",
        "print(6.4)"
      ]
    },
    {
      "cell_type": "markdown",
      "source": [
        "#####Substrings"
      ],
      "metadata": {
        "id": "Elneuf_5KL0x"
      }
    },
    {
      "cell_type": "code",
      "source": [
        "# Sub-strings\n",
        "helloWorld = 'Hello World!'\n",
        "hello = helloWorld[:5]  # From beginning of string to 5th character (non-inclusive)\n",
        "world = helloWorld[6:]  # From 6th character (inclusive) to end of string\n",
        "ello = helloWorld[2:5]  # From 2nd character (inclusive) to 5th character (non-inclusive)\n",
        "print(hello)\n",
        "print(world)\n",
        "print(ello)"
      ],
      "metadata": {
        "id": "q0UEBSVlJiMz"
      },
      "execution_count": null,
      "outputs": []
    },
    {
      "cell_type": "code",
      "source": [
        "# CHALLENGE\n",
        "# Extract \"feller\" from \"Rockefeller\"\n",
        "city = 'Rockefeller'\n",
        "nickname = None\n",
        "print(nickname)\n",
        "assert nickname == 'feller'"
      ],
      "metadata": {
        "id": "SAxPeuM3Jmsg"
      },
      "execution_count": null,
      "outputs": []
    },
    {
      "cell_type": "markdown",
      "source": [
        "#####Replacing parts of strings"
      ],
      "metadata": {
        "id": "4r6cUHs9KBKB"
      }
    },
    {
      "cell_type": "code",
      "source": [
        "# replace()\n",
        "mellowWorld = helloWorld.replace('H', 'M')  # You can replace a single character\n",
        "print(mellowWorld)\n",
        "mellowWorld = mellowWorld.replace(' ', 'w ')\n",
        "print(mellowWorld)\n",
        "ecstaticWorld = mellowWorld.replace('Mellow', 'Ecstatic')  # Or you can replace a string\n",
        "print(ecstaticWorld)"
      ],
      "metadata": {
        "id": "1L0MY4nnJ6_y"
      },
      "execution_count": null,
      "outputs": []
    },
    {
      "cell_type": "code",
      "source": [
        "\n",
        "# CHALLENGE\n",
        "# Replace 'Dogs' with 'Cats'\n",
        "text = 'Dogs are the best'\n",
        "correctedText = None\n",
        "print(correctedText)\n",
        "assert correctedText == 'Cats are the best'"
      ],
      "metadata": {
        "id": "2ttYykn8J_dg"
      },
      "execution_count": null,
      "outputs": []
    },
    {
      "cell_type": "markdown",
      "source": [
        "#####Capitalization"
      ],
      "metadata": {
        "id": "CVKafKtsKqr0"
      }
    },
    {
      "cell_type": "code",
      "source": [
        "# lower() / upper() / capitalize()\n",
        "ecstaticWorld = ecstaticWorld.lower()  # lower() will change everything to lower case\n",
        "print(ecstaticWorld)\n",
        "print(ecstaticWorld.upper())  # upper() will change everything to upper case\n",
        "print(ecstaticWorld.capitalize())\n",
        "# capitalize() will change the first letter of the string to upper case\n",
        "# and everything else to lower case. This includes the beginning\n",
        "# of other sentences."
      ],
      "metadata": {
        "id": "-UiGpzxpK-_5"
      },
      "execution_count": null,
      "outputs": []
    },
    {
      "cell_type": "code",
      "source": [
        "# CHALLENGE\n",
        "# Change the abomination below to 'Capitalization is great'\n",
        "internet1995 = 'cApItAlIzAtIoN IS laMe'\n",
        "internet2024 = None\n",
        "print(internet2024)\n",
        "assert internet2024 == 'Capitalization is great'"
      ],
      "metadata": {
        "id": "ZEkmIvj7LWJc"
      },
      "execution_count": null,
      "outputs": []
    },
    {
      "cell_type": "markdown",
      "source": [
        "#####Counting instances in a string"
      ],
      "metadata": {
        "id": "NrJyKytBLcKq"
      }
    },
    {
      "cell_type": "code",
      "source": [
        "# count()\n",
        "longText = \"Here are a bunch of words, but we probably don't want all of them. What now, more words?\"\n",
        "wordCount = longText.count(' ') + 1  # Returns the number of times the given string is found within the base string\n",
        "print(wordCount)"
      ],
      "metadata": {
        "id": "VLPLHaOeLk8Z"
      },
      "execution_count": null,
      "outputs": []
    },
    {
      "cell_type": "code",
      "source": [
        "# CHALLENGE\n",
        "# Count how many times 'to be' occurs in the quote below, regardless of capitalization\n",
        "hamlet = 'To be, or not to be--that is the question'\n",
        "toBeCount = None\n",
        "print(toBeCount)\n",
        "assert toBeCount == 2"
      ],
      "metadata": {
        "id": "tZYW1YyLLp8A"
      },
      "execution_count": null,
      "outputs": []
    },
    {
      "cell_type": "markdown",
      "source": [
        "#####Finding instances in a string"
      ],
      "metadata": {
        "id": "eVaCElFBLuis"
      }
    },
    {
      "cell_type": "code",
      "source": [
        "# find()\n",
        "locationOfFistWordStartingWithB = longText.find('b')\n",
        "print(locationOfFistWordStartingWithB)\n",
        "# The find index is useful for setting the location of sub-strings\n",
        "truncatedText = longText[locationOfFistWordStartingWithB:]\n",
        "print(truncatedText)\n",
        "fistWordStartingWithB = truncatedText[:truncatedText.find(' ')]\n",
        "print(fistWordStartingWithB)\n",
        "print(longText.find('zyx'))  # If the parameter isn't found, find() will return -1"
      ],
      "metadata": {
        "id": "IzJCzhrUL3fo"
      },
      "execution_count": null,
      "outputs": []
    },
    {
      "cell_type": "code",
      "source": [
        "# CHALLENGE\n",
        "# Create a command that will successfully extract the second word starting with 'b'\n",
        "# (regardless of case) from both strings\n",
        "text1 = 'Beans, Bacon, and Beer'\n",
        "text2 = 'Jim Bob and his merry band of rapscallions'\n",
        "secondWord1 = None\n",
        "secondWord2 = None\n",
        "print(secondWord1)\n",
        "print(secondWord2)\n",
        "assert secondWord1 == 'Bacon'\n",
        "assert secondWord2 == 'band'"
      ],
      "metadata": {
        "id": "FtrOtgIvL4U9"
      },
      "execution_count": null,
      "outputs": []
    },
    {
      "cell_type": "markdown",
      "source": [
        "#####Adding strings"
      ],
      "metadata": {
        "id": "R7XYRc_1L3OP"
      }
    },
    {
      "cell_type": "code",
      "source": [
        "# Adding stringsgreenEggs = 'Green eggs'\n",
        "greenEggs = 'Green eggs'\n",
        "ham = 'ham'\n",
        "breakfast = greenEggs + ' and ' + ham\n",
        "print(breakfast)"
      ],
      "metadata": {
        "id": "oWMslKaZMe9t"
      },
      "execution_count": null,
      "outputs": []
    },
    {
      "cell_type": "code",
      "source": [
        "# CHALLENGE\n",
        "# Using the \"animal\" and \"number\" variable, create a new string that says, \"Billions and billions of cats\"\n",
        "animal = 'cats'\n",
        "number = 'billions'\n",
        "howManyAnimals = None\n",
        "print(howManyAnimals)\n",
        "assert howManyAnimals == 'Billions and billions of cats'"
      ],
      "metadata": {
        "id": "FD4RZKZtMex2"
      },
      "execution_count": null,
      "outputs": []
    },
    {
      "cell_type": "markdown",
      "source": [
        "#####Cleaning whitespace"
      ],
      "metadata": {
        "id": "Inyhws28LyDF"
      }
    },
    {
      "cell_type": "code",
      "source": [
        "# Cleaning whitespace\n",
        "whiteSpaceString = '     there are some unnecessary spaces here    '\n",
        "print(whiteSpaceString)\n",
        "\n",
        "# strip() doesn't change the underlying string, it outputs a new one, so\n",
        "# we'll assign it to a new varable\n",
        "cleanedString = whiteSpaceString.strip()\n",
        "print(cleanedString)"
      ],
      "metadata": {
        "id": "Fag7k6tePf6c"
      },
      "execution_count": null,
      "outputs": []
    },
    {
      "cell_type": "code",
      "source": [
        "# CHALLENGE\n",
        "# Manipulate the variable \"name\" so that the first and last names in the string\n",
        "# are capitalized and rearranged in phone book style (e.g. \"Smith, John\")\n",
        "name = '    john     smith '\n",
        "phoneBookEntry = None\n",
        "print(phoneBookEntry)\n",
        "assert phoneBookEntry == 'Smith, John'"
      ],
      "metadata": {
        "id": "fZuHeKXtPgPi"
      },
      "execution_count": null,
      "outputs": []
    },
    {
      "cell_type": "markdown",
      "source": [
        "#####Finding the length of a string"
      ],
      "metadata": {
        "id": "e_jnQEWcQu0F"
      }
    },
    {
      "cell_type": "code",
      "source": [
        "# len()\n",
        "myString = \"Some sample text\"\n",
        "stringLength = len(myString)\n",
        "print(stringLength)"
      ],
      "metadata": {
        "id": "06izPPOKQyRW"
      },
      "execution_count": null,
      "outputs": []
    },
    {
      "cell_type": "code",
      "source": [
        "# CHALLENGE\n",
        "# Determine how many letters there are in the string, excluding punctuation and whitespace\n",
        "sampleString = '    Lorem ipsum dolor sit amet, consectetur adipiscing elit '\n",
        "letterCount = None\n",
        "print(letterCount)\n",
        "assert letterCount == 47"
      ],
      "metadata": {
        "id": "Vii2zFzwQ0eC"
      },
      "execution_count": null,
      "outputs": []
    },
    {
      "cell_type": "markdown",
      "source": [
        "#####Formatting a string"
      ],
      "metadata": {
        "id": "UizCvCLaUFvi"
      }
    },
    {
      "cell_type": "code",
      "source": [
        "number = 10\n",
        "# An f-string allows you to substitute other variables into a string.\n",
        "formatted_str = f'The number is {number}'\n",
        "print(formatted_str)"
      ],
      "metadata": {
        "id": "e57A_NtVUHZ1"
      },
      "execution_count": null,
      "outputs": []
    },
    {
      "cell_type": "code",
      "source": [
        "# CHALLENGE\n",
        "# Modify \"fruitCount\" to display the total number of apples + oranges\n",
        "apples = 10\n",
        "oranges = 5.5\n",
        "fruitCount = 'I have x fruits'\n",
        "print(fruitCount)\n",
        "assert fruitCount == 'I have 15.5 fruits'"
      ],
      "metadata": {
        "id": "OBAhtwVFR02o"
      },
      "execution_count": null,
      "outputs": []
    },
    {
      "cell_type": "markdown",
      "source": [
        "#####Converting variable types"
      ],
      "metadata": {
        "id": "Taq-soaLXzaz"
      }
    },
    {
      "cell_type": "code",
      "source": [
        "stringVar = '10'\n",
        "numVar = 10.5\n",
        "\n",
        "# Although you can't add numbers and strings,\n",
        "# You can, however, convert or \"cast\" one variable type into another\n",
        "print(stringVar + str(numVar))  # Prints the strings sequentially\n",
        "print(int(stringVar) + numVar)  # Adds the numeric values\n"
      ],
      "metadata": {
        "id": "Sg8_uHcWX4e2"
      },
      "execution_count": null,
      "outputs": []
    },
    {
      "cell_type": "code",
      "source": [
        "# CHALLENGE\n",
        "# Modify \"fruitCount\" to be a numeric value of the total number of fruits\n",
        "apple_str = 'I have 10 apples'\n",
        "orange_str = 'I have 5.5 oranges'\n",
        "fruitCount = None\n",
        "print(fruitCount)\n",
        "assert fruitCount == 15.5"
      ],
      "metadata": {
        "id": "2ADoogf-YXtM"
      },
      "execution_count": null,
      "outputs": []
    },
    {
      "cell_type": "markdown",
      "source": [
        "###Dynamic typing"
      ],
      "metadata": {
        "id": "Ernh39kXas-d"
      }
    },
    {
      "cell_type": "code",
      "source": [
        "# You can assign the value of one variable to another variable, regardless of type\n",
        "val = \"nine\"\n",
        "intVal = 9\n",
        "print(\"val: \" + val)\n",
        "print(f\"intVal: {intVal}\")  # Using an f-string to insert a non-string variable\n",
        "\n",
        "# Assigning a numeric value to \"val\" which used to be a string\n",
        "val = intVal\n",
        "print(f\"val: {val}\")\n",
        "\n",
        "# But changing \"intVal\" won't change \"val\"\n",
        "# This is because the assignment occurs \"by value\" as opposed to \"by reference,\"\n",
        "# meaning that \"val\" is now a copy of \"intVal\", but is not linked to it\n",
        "intVal = 22\n",
        "print(f\"Val before intVal is changed: {val}\")\n",
        "print(f\"Val after intVal is changed: {val}\")"
      ],
      "metadata": {
        "id": "PWhl_YI0auh6"
      },
      "execution_count": null,
      "outputs": []
    },
    {
      "cell_type": "markdown",
      "source": [
        "###Operator types"
      ],
      "metadata": {
        "id": "64AOyyQlcNuC"
      }
    },
    {
      "cell_type": "code",
      "source": [
        "# + -- addition\n",
        "# - -- subtraction\n",
        "# * -- multiplication\n",
        "# / -- division\n",
        "# ** -- exponent\n",
        "# % -- modulus -- Gives the remainder after division (e.g. 18 % 5 equals 3)\n",
        "# // -- floor division -- Division, then rounded down (for negative numbers, toward negative infinity)\n",
        "# +=, -=, *=, /=, //= -- Compound operators (e.g. x += 1 is equivalent to x = x + 1)\n",
        "\n",
        "# The modulus (or \"modulo\") operator is handy for finding even and odd numbers\n",
        "a = 13\n",
        "b = 16\n",
        "remainderA = a % 2\n",
        "remainderB = b % 2\n",
        "print(remainderA)\n",
        "print(remainderB)"
      ],
      "metadata": {
        "id": "oAYyi7z8cPqk"
      },
      "execution_count": null,
      "outputs": []
    },
    {
      "cell_type": "markdown",
      "source": [
        "###Collection variable types"
      ],
      "metadata": {
        "id": "JAervlIbX4GM"
      }
    },
    {
      "cell_type": "markdown",
      "source": [
        "####Lists"
      ],
      "metadata": {
        "id": "148C_L8scVDS"
      }
    },
    {
      "cell_type": "code",
      "source": [
        "# A variable can be a single value, but it can also be a collection of values\n",
        "# An ordered collection is called a list\n",
        "emptyList = []  # This initializes an empty list that can be added to later\n",
        "stringList = ['hello', 'world']\n",
        "floatList = [6.5, 7.8, 9.2]\n",
        "mixedList = [4.5, 'words', 5, 'more words']\n",
        "listOfLists = [['kittens', 'puppies', 'baby marmots'], [38, 2, 9]]\n",
        "\n",
        "# You can access the entire list\n",
        "print(f\"Entire list of lists: {listOfLists}\")\n",
        "# A single element in the list\n",
        "print(f\"Element 0 of list of lists: {listOfLists[0]}\")\n",
        "print(f\"Element 1 of list of lists: {listOfLists[1]}\")\n",
        "# Or, in the case of nested lists, elements within elements\n",
        "print(f\"Sub elements in list of lists: {listOfLists[0][1]}, {listOfLists[1][1]}\")\n",
        "\n",
        "# Values can be appended to the end of a list\n",
        "print(f\"\\nOriginal stringList: {stringList}\")\n",
        "stringList.append('cheerio!')\n",
        "print(f\"Appended stringList: {stringList}\")\n",
        "\n",
        "# They can also be inserted into the middle of a list\n",
        "stringList.insert(2, 'tea and crumpets')\n",
        "print(f\"Inserted stringList: {stringList}\")\n",
        "\n",
        "# And values can be removed from the end of the list or any arbitrary location using .pop()\n",
        "stringList.pop()\n",
        "print(f\"\\nstringList after pop(): {stringList}\")\n",
        "stringList.pop(1)\n",
        "print(f\"stringList after pop(1): {stringList}\")"
      ],
      "metadata": {
        "id": "wYoG3UkCY4QL"
      },
      "execution_count": null,
      "outputs": []
    },
    {
      "cell_type": "code",
      "source": [
        "# You can modify values inside a list\n",
        "integer_list = [1, 2, 3]\n",
        "print(f\"Original list: {integer_list}\")\n",
        "integer_list[0] = 5  # Note that the first index in the list is the 0th element\n",
        "print(f\"Modified list: {integer_list}\")"
      ],
      "metadata": {
        "id": "t6PFzj4aPoIj"
      },
      "execution_count": null,
      "outputs": []
    },
    {
      "cell_type": "code",
      "source": [
        "tool1 = '3D printer'\n",
        "tool2 = 'laser cutter'\n",
        "tool3 = 'bobby pin'\n",
        "toolList = []\n",
        "\n",
        "# We'll add the tools to the list using .append()\n",
        "toolList.append(tool1)\n",
        "toolList.append(tool2)\n",
        "toolList.append(tool3)\n",
        "print(toolList)\n",
        "\n",
        "# When we change tool2 to a different value and print the toolList\n",
        "# again, the tool list doesn't change. This is because .append()\n",
        "# makes a copy of the variable and adds it to the list, so changing\n",
        "# tool2 doesn't change toolList.\n",
        "tool2 = 'sawzall'\n",
        "print(toolList)"
      ],
      "metadata": {
        "id": "o7tKkOprdfOJ"
      },
      "execution_count": null,
      "outputs": []
    },
    {
      "cell_type": "code",
      "source": [
        "#CHALLENGE\n"
      ],
      "metadata": {
        "id": "ynzxjkZTQJQD"
      },
      "execution_count": 7,
      "outputs": []
    },
    {
      "cell_type": "markdown",
      "source": [
        "####Dictionaries"
      ],
      "metadata": {
        "id": "MC6TQoKefxH6"
      }
    },
    {
      "cell_type": "code",
      "source": [
        "# Dictionaries are a collection of \"key\" and \"value\" pairs\n",
        "myDictionary = {\n",
        "    'kittens': 38,\n",
        "    'puppies': 2,\n",
        "    'baby marmots': 9\n",
        "}\n",
        "\n",
        "# The entire dictionary can be printed\n",
        "print(f\"Entire dictionary: {myDictionary}\")\n",
        "\n",
        "# You can check to see if a certain key exists in your dictionary...\n",
        "print(f\"\\nIs 'kittens' in 'mydictionary'? {'kittens' in myDictionary}\")\n",
        "\n",
        "# Get values in your dictionary by key\n",
        "print(f\"\\nValue for key 'puppies': {myDictionary.get('puppies')}\")\n",
        "\n",
        "# ...update entries...\n",
        "myDictionary['puppies'] = 0\n",
        "print(f\"\\nNew value for key 'puppies': {myDictionary.get('puppies')}\")\n",
        "\n",
        "# ...add entries...\n",
        "myDictionary['ducklings'] = 12\n",
        "print(f\"\\nDictionary with new entry: {myDictionary}\")\n",
        "\n",
        "# ...remove entries\n",
        "del myDictionary['puppies']\n",
        "print(f\"\\nDictionary with deleted entry: {myDictionary}\")"
      ],
      "metadata": {
        "id": "_KnWDq85fzAZ"
      },
      "execution_count": null,
      "outputs": []
    },
    {
      "cell_type": "code",
      "source": [
        "# CHALLENGE\n",
        "# Use the dictionary of state abbreviations to change \"Lansing, Michigan\" to \"Lansing, MI\"\n",
        "states = {\n",
        "    'California': 'CA',\n",
        "    'Michigan': 'MI',\n",
        "    'Wisconsin': 'WI',\n",
        "    'Oklahoma': 'OK',\n",
        "    'Florida': 'FL'\n",
        "}\n",
        "stateCapital = 'Lansing, Michigan'\n",
        "stateFullName = None  # Extract the state name from \"stateCapital\"\n",
        "stateAbrv = None  # Get the abbreviation from the dictionary\n",
        "# Replace \"stateFullName\" in \"stateCapital\" with \"stateAbrv\"\n",
        "print(stateCapital)\n",
        "assert stateCapital == 'Lansing, MI'"
      ],
      "metadata": {
        "id": "TSiyVZi7gf2U"
      },
      "execution_count": null,
      "outputs": []
    },
    {
      "cell_type": "markdown",
      "source": [
        "####Sets"
      ],
      "metadata": {
        "id": "CKGcVfQpen7h"
      }
    },
    {
      "cell_type": "code",
      "source": [
        "# Unlike a list, a set is an UNORDERED collection of elements and there may be NO duplicate items in a set\n",
        "# A set in Python is identical to a mathematical set and has operations like, union, intersection, subset, etc.\n",
        "farmAnimals = {'horse', 'pig', 'sheep', 'cow', 'goat', 'dog', 'cat'}\n",
        "housePets = {'fish', 'gerbil', 'dog', 'cat', 'rabbit'}\n",
        "racingAnimals = {'horse', 'dog', 'gerbil'}\n",
        "tastyAnimals = {'pig', 'sheep', 'cow', 'goat', 'fish'}\n",
        "tastyMammals = {'pig', 'sheep', 'cow', 'goat'}\n",
        "\n",
        "housePetsYouCanFindOnAFarm = farmAnimals.intersection(housePets)\n",
        "print(f\"House pets you can find on a farm: {housePetsYouCanFindOnAFarm}\")\n",
        "\n",
        "allAnimals = racingAnimals.union(housePets).union(farmAnimals)\n",
        "print(f\"\\nAll animals: {allAnimals}\")\n",
        "\n",
        "areAllTastyAnimalsFoundOnFarms = tastyAnimals.issubset(farmAnimals)\n",
        "print(f\"\\nAre all tasty animals found on farms? {areAllTastyAnimalsFoundOnFarms}\")\n",
        "\n",
        "areAllTastyMammalsFoundOnFarms = tastyMammals.issubset(farmAnimals)\n",
        "print(f\"\\nAre all tasty mammals found on farms? {areAllTastyMammalsFoundOnFarms}\")\n",
        "\n",
        "housePets.add('snake')\n",
        "print(f\"\\nHouse pets: {housePets}\")"
      ],
      "metadata": {
        "id": "-C5LcpuLeh7v"
      },
      "execution_count": null,
      "outputs": []
    },
    {
      "cell_type": "code",
      "source": [
        "# CHALLENGE\n",
        "# Determine which recipes can be made from the set \"ingredients\" and add them to a new list\n",
        "ingredients = {'chocolate', 'chicken', 'flour', 'butter', 'carrots', 'eggs', 'sugar', 'pepper'}\n",
        "cake = {'chocolate', 'flour', 'butter', 'eggs', 'sugar'}\n",
        "roastChicken = {'chicken', 'butter', 'salt', 'pepper'}\n",
        "glazedCarrots = {'carrots', 'sugar', 'butter'}\n",
        "\n",
        "# Add code here\n",
        "\n",
        "listOfValidRecipes = []\n",
        "print(listOfValidRecipes)\n",
        "assert listOfValidRecipes == ['cake', 'glazed carrots']"
      ],
      "metadata": {
        "id": "tbia6BL-fkPt"
      },
      "execution_count": null,
      "outputs": []
    },
    {
      "cell_type": "markdown",
      "source": [
        "####Size of collections"
      ],
      "metadata": {
        "id": "aa7M0UxXgrZC"
      }
    },
    {
      "cell_type": "code",
      "source": [
        "# len() -- Again!\n",
        "# Remember how you could use len() to determine the length of a string? You can also use it to determine the\n",
        "# length of lists, sets and dictionaries.\n",
        "\n",
        "my_list = [1, 5, 2]\n",
        "my_set = {4, 5, 2, 8}\n",
        "my_dict = {'a': 1, 'b': 2, 'c': 3, 'd': 4, 'e': 5}\n",
        "\n",
        "print(len(my_list))  # Length of a list\n",
        "print(len(my_set))   # Length of a set\n",
        "print(len(my_dict))  # Length of a dictionary"
      ],
      "metadata": {
        "id": "etiEfBmJgtTq"
      },
      "execution_count": null,
      "outputs": []
    },
    {
      "cell_type": "markdown",
      "source": [
        "## if / else & boolean logic"
      ],
      "metadata": {
        "id": "A56FYs1mnJnd"
      }
    },
    {
      "cell_type": "code",
      "source": [
        "# Boolean logic operators:\n",
        "# True -- Note capitalization\n",
        "# False -- Note capitalization\n",
        "# == -- Equal\n",
        "# != -- Not equal\n",
        "# > -- Greater than\n",
        "# < -- Less than\n",
        "# >= -- Greater than or equal to\n",
        "# <= -- Less than or equal to\n",
        "# and\n",
        "# or\n",
        "\n",
        "a = 22\n",
        "b = 13\n",
        "c = 22\n",
        "d = 5\n",
        "\n",
        "# In an if/elif/else structure, the code associated with the first boolean statement to evaluate as true\n",
        "# will be executed, and if none of them evaluate as true, the \"else\" code will execute\n",
        "print(\"Output 1:\")\n",
        "if a == b:\n",
        "    print(\"a and b are equal\")\n",
        "elif a < b:\n",
        "    print(\"a is less than b\")\n",
        "else:\n",
        "    print(\"a is greater than b\")\n",
        "\n",
        "# When using \"elif\" statements, ONLY the first boolean comparison to evaluate as true will execute,\n",
        "# even if more than one is true\n",
        "print(\"\\nOutput 2:\")\n",
        "if a == b:\n",
        "    print(\"a and b are equal\")\n",
        "elif a == c:\n",
        "    print(\"a and c are equal\")\n",
        "elif b < c:\n",
        "    print(\"b is less than c\")\n",
        "\n",
        "# If several separate \"if\" statements are used, code associated with all true evaluations will execute\n",
        "print(\"\\nOutput 3:\")\n",
        "if a == b:\n",
        "    print(\"a and b are equal\")\n",
        "if a == c:\n",
        "    print(\"a and c are equal\")\n",
        "if b < c:\n",
        "    print(\"b is less than c\")\n",
        "\n",
        "# Several conditions can be strung together. Use parentheses to indicate groupings.\n",
        "print(\"\\nOutput 4:\")\n",
        "if a > b > c or (a == c and d < b):\n",
        "    print(\"Complex condition satisfied!\")"
      ],
      "metadata": {
        "id": "xnvBlgy0nQtn"
      },
      "execution_count": null,
      "outputs": []
    },
    {
      "cell_type": "code",
      "source": [
        "# CHALLENGE\n",
        "# Write an if statement that will result in the longer word bring printed\n",
        "word1 = \"hi\"\n",
        "word2 = \"supercalifragilisticexpialidocious\"\n",
        "output = None\n",
        "\n",
        "# Add your code here\n",
        "\n",
        "print(output)\n",
        "assert output == \"supercalifragilisticexpialidocious\""
      ],
      "metadata": {
        "id": "k7rN6It7nlId"
      },
      "execution_count": null,
      "outputs": []
    },
    {
      "cell_type": "markdown",
      "source": [
        "##Loops"
      ],
      "metadata": {
        "id": "bmhB0Wtln6pr"
      }
    },
    {
      "cell_type": "code",
      "source": [
        "# A \"for\" loop does something a fixed number of times\n",
        "# Here, we declare a new variable \"x\"\n",
        "for x in range(0, 10):  # range(a, b) is from a (inclusive) to b (exclusive)\n",
        "    print(x)"
      ],
      "metadata": {
        "id": "3bBw1icAn2If",
        "collapsed": true
      },
      "execution_count": null,
      "outputs": []
    },
    {
      "cell_type": "code",
      "source": [
        "# A \"while\" loop does something so long as a given condition is true\n",
        "y = 1\n",
        "while y < 100:\n",
        "    print(y)\n",
        "    y *= 2  # This is the same as y = y * 2, but with less typing\n",
        "\n",
        "# Note that in both these cases, we ended our loop statement with a \":\" and indented the contents of the loop"
      ],
      "metadata": {
        "id": "qgLVsWIaD3NO"
      },
      "execution_count": null,
      "outputs": []
    },
    {
      "cell_type": "code",
      "source": [
        "# \"for\" loops can also be used for moving through \"iterable\" objects like lists\n",
        "# For each item in the list, the item is assigned to the variable \"element\".\n",
        "# That is just the name used in this example. You can use any name that makes\n",
        "# makes sense for your loop.\n",
        "myList = [5, 10, 15]\n",
        "for element in myList:\n",
        "    print(element)"
      ],
      "metadata": {
        "id": "qkQ4KRZKD5Ta"
      },
      "execution_count": null,
      "outputs": []
    },
    {
      "cell_type": "code",
      "source": [
        "# CHALLENGE\n",
        "# Add 5 to each of the elements\n",
        "numbers = [1, 5, 10, 14]\n",
        "\n",
        "# Create a loop here\n",
        "\n",
        "print(numbers)\n",
        "assert numbers == [6, 10, 15, 19]"
      ],
      "metadata": {
        "id": "2OspDJLbD8Hv"
      },
      "execution_count": null,
      "outputs": []
    },
    {
      "cell_type": "code",
      "source": [
        "# CHALLENGE\n",
        "# Now add 3 to every other element of the output from the last block of code\n",
        "# Note: In Jupyter Notebotes, variables you declare in earlier blocks of\n",
        "# code are available to later blocks of code.\n",
        "\n",
        "# Create another loop here\n",
        "\n",
        "print(numbers)\n",
        "assert numbers == [9, 13, 18, 22]"
      ],
      "metadata": {
        "id": "cW37zSXtD9yA"
      },
      "execution_count": null,
      "outputs": []
    },
    {
      "cell_type": "markdown",
      "source": [
        "##Functions"
      ],
      "metadata": {
        "id": "xGi-iI-cEi6y"
      }
    },
    {
      "cell_type": "code",
      "source": [
        "# Functions let us reuse pieces of code over and over again\n",
        "\n",
        "# \"def\" indicates that we're creating a function\n",
        "     # Then we give it a name\n",
        "                  # Then we indicate any parameters the function takes\n",
        "                  # Parameters are optional. Not all functions have parameters.\n",
        "def function_name(parameter1, parameter2):\n",
        "    \"\"\"\n",
        "    This is where the function's Document String (docstring) goes, which\n",
        "    is a brief description of what the function does, what the parameters\n",
        "    are, and what it returns.\n",
        "    \"\"\"\n",
        "    # This is where the function's code goes\n",
        "    value = parameter1 + parameter2\n",
        "\n",
        "    # Often, functions will return a value, though this is optional. If no\n",
        "    # value is returned, the function will return None\n",
        "    return value\n",
        "\n",
        "\n",
        "# Another way to think of Python functions is in the context of\n",
        "# mathematical functions. f(x) or \"f of x, y\" means operating on the variables\n",
        "# x and y to give a new result, which is then substituted back into an equation.\n",
        "#       e.g. f(x, y) = x + y\n",
        "#            a = b + f(x, y) = b + (x + y)"
      ],
      "metadata": {
        "id": "S78ycXISE3nJ"
      },
      "execution_count": null,
      "outputs": []
    },
    {
      "cell_type": "code",
      "source": [
        "# Here we'll implement the same function as above, but with proper names\n",
        "def sum_two_ints(num1, num2):\n",
        "    \"\"\"\n",
        "    This function takes two numbers and adds them together.\n",
        "    \"\"\"\n",
        "    # Check to see if they are integers. If they are not, raise an error\n",
        "    if not isinstance(num1, int) or not isinstance(num2, int):\n",
        "        raise TypeError(\"Inputs must be integers\")\n",
        "\n",
        "    # Otherwise, return the sum\n",
        "    return num1 + num2\n",
        "\n",
        "# Once you have declared your function, you can \"call\" it like this\n",
        "value = sum_two_ints(5, 10)\n",
        "print(value)\n"
      ],
      "metadata": {
        "id": "B8FocUO9Fs2O"
      },
      "execution_count": null,
      "outputs": []
    },
    {
      "cell_type": "code",
      "source": [
        "# Let's create a more interesting function\n",
        "def string_contains_word(string, word):\n",
        "    \"\"\"\n",
        "    Returns True if the word is found in the string, regardless of case.\n",
        "    \"\"\"\n",
        "    # Since lower() returns a string, we can then call the find() operator on that string.\n",
        "    # find() returns the index of the first instances of a given string within\n",
        "    # the base string, or -1 if the string is not found\n",
        "    if string.lower().find(word.lower()) != -1:\n",
        "        return True\n",
        "    else:\n",
        "        return False\n",
        "\n",
        "strings = [\n",
        "    \"Good night moon\",\n",
        "    \"Good night spoon\",\n",
        "    \"Good night crumbs from my macaroon\"\n",
        "]\n",
        "searchWord = \"macaroon\"\n",
        "\n",
        "# Loop through each element in \"strings\", assigning the\n",
        "# current element to a variable called \"line\"\n",
        "for line in strings:\n",
        "    # Pass the current line and the search word to the function\n",
        "    # If the function returns a true value, print the current line\n",
        "    if string_contains_word(line, searchWord):\n",
        "        print(line)"
      ],
      "metadata": {
        "id": "YO7N21uCEh7o"
      },
      "execution_count": null,
      "outputs": []
    },
    {
      "cell_type": "markdown",
      "source": [
        "##Classes (Object Oriented Programming)"
      ],
      "metadata": {
        "id": "yjtXy8ofINnn"
      }
    },
    {
      "cell_type": "markdown",
      "source": [
        "Sometimes when programming, you'll have occasions where you want to represent multiple instances of something that might have shared attributes and functionality, but not necessarily the same values. An example of this is a character in a roleplaying game. We're going to walk through the \"hard\" way of managing multiple character stats using just what we've learned so far, and then see how the task of managing multiple instances of our characters can be made far easier by using classes."
      ],
      "metadata": {
        "id": "eIf0R2XSIgsq"
      }
    },
    {
      "cell_type": "code",
      "source": [
        "# Define our character variables\n",
        "p1_name = \"Luneth\"\n",
        "p1_char_class = \"Mage\"\n",
        "p1_level = 1\n",
        "p1_hp = 7\n",
        "p1_mp = 2\n",
        "p1_max_hp = 10\n",
        "p1_max_mp = 10\n",
        "p1_inventory = ['Leather Armor', 'Wooden Staff']\n",
        "\n",
        "p2_name = \"Arc\"\n",
        "p2_char_class = \"Warrior\"\n",
        "p2_level = 1\n",
        "p2_hp = 8\n",
        "p2_mp = 5\n",
        "p2_max_hp = 15\n",
        "p2_max_mp = 5\n",
        "p2_inventory = ['Broadsword', 'Iron Shield']\n",
        "\n",
        "# Define our character functions\n",
        "def print_stats(name, char_class, level, hp, max_hp, mp, max_mp, inventory):\n",
        "    print(f\"Name: {name}\")\n",
        "    print(f\"Class: {char_class}\")\n",
        "    print(f\"Level: {level}\")\n",
        "    print(f\"HP: {hp}/{max_hp}\")\n",
        "    print(f\"MP: {mp}/{max_mp}\")\n",
        "    print(f\"Inventory:\")\n",
        "    for item in inventory:\n",
        "        print(f\" - {item}\")\n",
        "    print()  # Add a blank line for readability\n",
        "\n",
        "def rest(name, cur_hp, cur_mp, max_hp, max_mp):\n",
        "    \"\"\"\n",
        "    Character regains 50% of HP and MP or as much as they have left.\n",
        "    \"\"\"\n",
        "    print(f\"{name} rests.\\n\")\n",
        "    new_hp = min(cur_hp + max_hp // 2, max_hp)\n",
        "    new_mp = min(cur_mp + max_mp // 2, max_mp)\n",
        "    return new_hp, new_mp\n",
        "\n",
        "def level_up(name, old_level, max_hp, max_mp):\n",
        "    \"\"\"\n",
        "    Level up the character. Increase the maximum HP and MP\n",
        "    by 5 + the old level and restore all HP and MP.\n",
        "    \"\"\"\n",
        "    print(f\"{name} leveled up!\\n\")\n",
        "    new_level = old_level + 1\n",
        "    new_max_hp = max_hp + 5 + old_level\n",
        "    new_max_mp = max_mp + 5 + old_level\n",
        "    new_hp = new_max_hp\n",
        "    new_mp = new_max_mp\n",
        "    return new_level, new_max_hp, new_max_mp, new_hp, new_mp\n",
        "\n",
        "# We can now use our characters and functions to do some basic things\n",
        "\n",
        "# Print the initial stats\n",
        "print_stats(p1_name, p1_char_class, p1_level, p1_hp, p1_max_hp, p1_mp, p1_max_mp, p1_inventory)\n",
        "print_stats(p2_name, p2_char_class, p2_level, p2_hp, p2_max_hp, p2_mp, p2_max_hp, p2_inventory)\n",
        "\n",
        "# Player 1 rests\n",
        "p1_hp, p1_mp = rest(p1_name, p1_hp, p1_mp, p1_max_hp, p1_max_mp)\n",
        "# Player 2 levels up\n",
        "p2_level, p2_max_hp, p2_max_mp, p2_hp, p2_mp = level_up(p2_name, p2_level, p2_max_hp, p2_max_mp)\n",
        "\n",
        "print_stats(p1_name, p1_char_class, p1_level, p1_hp, p1_max_hp, p1_mp, p1_max_mp, p1_inventory)\n",
        "print_stats(p2_name, p2_char_class, p2_level, p2_hp, p2_max_hp, p2_mp, p2_max_mp, p2_inventory)"
      ],
      "metadata": {
        "id": "_ty6fHQCIcPi"
      },
      "execution_count": null,
      "outputs": []
    },
    {
      "cell_type": "markdown",
      "source": [
        "From this example, we can already see how cumbersome this is getting. Imagine adding more characters, character functions, interactions with other characters and the whole thing gets even more unmanageable very quickly. We can rewrite this much more simply by using classes. Classes represent a template from which we can make many \"objects,\" which are instances of that template.\n",
        "\n",
        "In the template, we define what we might think of as \"nouns\" and \"verbs\" for our object. The nouns are variables that hold values that define the \"what\" of the object. The verbs are functions that the object can do and define the \"how\" of the object. This will make more sense when you follow along below."
      ],
      "metadata": {
        "id": "3MZkev5FONEc"
      }
    },
    {
      "cell_type": "code",
      "source": [
        "class character:\n",
        "    \"\"\"\n",
        "    A character in a roleplaying game.\n",
        "    \"\"\"\n",
        "\n",
        "    # __init__ (two underscores on either side) is a special\n",
        "    # method (functions inside classes are called methods) that is called\n",
        "    # when you create an object. It allows you to pass information necessary to\n",
        "    # initially define the object (instance of the class).\n",
        "\n",
        "    # It takes parameters just like normal functions, though all methods in a\n",
        "    # class must have \"self\" as the first parameter, regardless of whether you\n",
        "    # add any additional parameters. \"self\" is a reference to that particular\n",
        "    # object.\n",
        "    def __init__(self, name, char_class, level, hp, max_hp, mp, max_mp, inventory):\n",
        "        # Here, we are saying that self (this particular object) has a variable\n",
        "        # called name. We are setting it equal to the parameter also called \"name\"\n",
        "        self.name = name\n",
        "\n",
        "        # Let's repeat this for all the other parameters\n",
        "        self.char_class = char_class\n",
        "        self.level = level\n",
        "        self.hp = hp\n",
        "        self.max_hp = max_hp\n",
        "        self.mp = mp\n",
        "        self.max_mp = max_mp\n",
        "        self.inventory = inventory\n",
        "\n",
        "    # Here we'll define our first chracter function. In our rest() function\n",
        "    # above, we had to feed the function all the current values, and then\n",
        "    # tell it where to save all the new values. In a class, we can simply\n",
        "    # reference \"self\" to access any values associated with that particular\n",
        "    # object, so no need to have any additional parameters or to return\n",
        "    # any values.\n",
        "    def rest(self):\n",
        "      \"\"\"\n",
        "      Character regains 50% of HP and MP or as much as they have left.\n",
        "      \"\"\"\n",
        "      #\n",
        "      print(f\"{self.name} rests.\\n\")\n",
        "      self.hp = min(self.hp + self.max_hp // 2, self.max_hp)\n",
        "      self.mp = min(self.mp + self.max_mp // 2, self.max_mp)\n",
        "\n",
        "      print(f\"{self.name}'s HP is now {self.hp}/{self.max_hp} and MP is now {self.mp}/{self.max_mp}.\\n\")\n",
        "\n",
        "    def level_up(self):\n",
        "      \"\"\"\n",
        "      Level up the character. Increase the maximum HP and MP\n",
        "      by 5 + the old level and restore all HP and MP.\n",
        "      \"\"\"\n",
        "      print(f\"{self.name} leveled up!\\n\")\n",
        "      self.level += 1\n",
        "      self.max_hp += 5 + self.level\n",
        "      self.max_mp += 5 + self.level\n",
        "      self.hp = self.max_hp\n",
        "      self.mp = self.max_mp\n",
        "\n",
        "      print(f\"{self.name}'s level is now {self.level}!\\n\")\n",
        "\n",
        "    def print_stats(self):\n",
        "      print(f\"Name: {self.name}\")\n",
        "      print(f\"Class: {self.char_class}\")\n",
        "      print(f\"Level: {self.level}\")\n",
        "      print(f\"HP: {self.hp}/{self.max_hp}\")\n",
        "      print(f\"MP: {self.mp}/{self.max_mp}\")\n",
        "      print(f\"Inventory:\")\n",
        "      for item in self.inventory:\n",
        "        print(f\" - {item}\")\n",
        "      print()  # Add a blank line for readability\n",
        "\n",
        "# Create the characters\n",
        "p1 = character(\n",
        "    name=\"Luneth\",\n",
        "    char_class=\"Mage\",\n",
        "    level=1,\n",
        "    hp=7,\n",
        "    mp=2,\n",
        "    max_hp=10,\n",
        "    max_mp=10,\n",
        "    inventory=['Leather Armor', 'Wooden Staff']\n",
        ")\n",
        "\n",
        "p2 = character(\n",
        "    name=\"Arc\",\n",
        "    char_class=\"Warrior\",\n",
        "    level=1,\n",
        "    hp=8,\n",
        "    mp=5,\n",
        "    max_hp=15,\n",
        "    max_mp=5,\n",
        "    inventory=['Broadsword', 'Iron Shield']\n",
        ")\n",
        "\n",
        "\n",
        "# Do some things\n",
        "p1.print_stats()\n",
        "p2.print_stats()\n",
        "\n",
        "p1.rest()\n",
        "p2.level_up()\n",
        "\n",
        "p1.print_stats()\n",
        "p2.print_stats()"
      ],
      "metadata": {
        "colab": {
          "base_uri": "https://localhost:8080/"
        },
        "id": "a-8pDnP5OlQZ",
        "outputId": "3081f1a5-a30f-4c48-f11a-b559d4e56db8"
      },
      "execution_count": 4,
      "outputs": [
        {
          "output_type": "stream",
          "name": "stdout",
          "text": [
            "Name: Luneth\n",
            "Class: Mage\n",
            "Level: 1\n",
            "HP: 7/10\n",
            "MP: 2/10\n",
            "Inventory:\n",
            " - Leather Armor\n",
            " - Wooden Staff\n",
            "\n",
            "Name: Arc\n",
            "Class: Warrior\n",
            "Level: 1\n",
            "HP: 8/15\n",
            "MP: 5/5\n",
            "Inventory:\n",
            " - Broadsword\n",
            " - Iron Shield\n",
            "\n",
            "Luneth rests.\n",
            "\n",
            "Luneth's HP is now 10/10 and MP is now 7/10.\n",
            "\n",
            "Arc leveled up!\n",
            "\n",
            "Arc's level is now 2!\n",
            "\n",
            "Name: Luneth\n",
            "Class: Mage\n",
            "Level: 1\n",
            "HP: 10/10\n",
            "MP: 7/10\n",
            "Inventory:\n",
            " - Leather Armor\n",
            " - Wooden Staff\n",
            "\n",
            "Name: Arc\n",
            "Class: Warrior\n",
            "Level: 2\n",
            "HP: 22/22\n",
            "MP: 12/12\n",
            "Inventory:\n",
            " - Broadsword\n",
            " - Iron Shield\n",
            "\n"
          ]
        }
      ]
    },
    {
      "cell_type": "code",
      "source": [
        "#CHALLENGE\n",
        "\n",
        "# 1. Implement the item class below\n",
        "\n",
        "class Item:\n",
        "\n",
        "  def __init__(self, name, description, weight, value):\n",
        "    # Implement this\n",
        "\n",
        "    # pass is a dummy operation that you can use to stub\n",
        "    # out code that you haven't written yet to keep the\n",
        "    # code from breaking during development\n",
        "    pass\n",
        "\n",
        "  def __str__(self) -> str:\n",
        "    \"\"\"\n",
        "    This is a special method that you can define to determine\n",
        "    how an item should be printed out. When you print an item,\n",
        "    this method will be called and the output string will be\n",
        "    returned.\n",
        "    \"\"\"\n",
        "    string_output =  # Implement this\n",
        "    return string_output\n",
        "\n",
        "# 2. Create several items with values of your choosing\n",
        "\n",
        "# 3. Add the items to the inventory of one of the characters\n",
        "#    using the .append() function. (Hint: You can access the\n",
        "#    character's inventory via p1.inventory or p2.inventory)\n",
        "\n",
        "# 4. Print the character's status to see the updated inventory"
      ],
      "metadata": {
        "colab": {
          "base_uri": "https://localhost:8080/"
        },
        "id": "kdCDkCCFVjzO",
        "outputId": "df251138-7a87-45bc-ecbc-e86c52640695"
      },
      "execution_count": 50,
      "outputs": [
        {
          "output_type": "stream",
          "name": "stdout",
          "text": [
            "Name: Luneth\n",
            "Class: Mage\n",
            "Level: 1\n",
            "HP: 10/10\n",
            "MP: 7/10\n",
            "Inventory:\n",
            " - Leather Armor\n",
            " - Wooden Staff\n",
            " - book: A book -- Weight: 1 -- Value: 10\n",
            "\n"
          ]
        }
      ]
    },
    {
      "cell_type": "code",
      "source": [],
      "metadata": {
        "id": "rcdmHGvJazYt"
      },
      "execution_count": null,
      "outputs": []
    }
  ]
}